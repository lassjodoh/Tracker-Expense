{
 "cells": [
  {
   "cell_type": "markdown",
   "id": "739c0b96",
   "metadata": {},
   "source": [
    "### A Simple Expense Tracker \n",
    "+ implementing the use of while loops for repetition \n",
    "+ experimenting with simple python methods."
   ]
  },
  {
   "cell_type": "code",
   "execution_count": null,
   "id": "9ed20556",
   "metadata": {},
   "outputs": [],
   "source": [
    "expenses = []"
   ]
  },
  {
   "cell_type": "code",
   "execution_count": null,
   "id": "5a020bed",
   "metadata": {},
   "outputs": [],
   "source": [
    "User_name = input(\"Please enter your name: \\n\")\n"
   ]
  },
  {
   "cell_type": "code",
   "execution_count": null,
   "id": "a26a34e1",
   "metadata": {},
   "outputs": [],
   "source": [
    "income = input(\"Enter your income (£): \\n \")\n",
    "p_savings = input(\"What percentage of your income would you like to save?(%)\\n \")"
   ]
  },
  {
   "cell_type": "code",
   "execution_count": null,
   "id": "160d2ab7",
   "metadata": {},
   "outputs": [],
   "source": [
    "\n",
    "stop = \"on\"\n",
    "while stop == \"on\":\n",
    "\n",
    "\n",
    "    option = input(\"\"\"\n",
    "    Choose an option:\n",
    "    1. Log a new expense\n",
    "    2. View expenses\n",
    "    3. Check spending level\n",
    "    \"\"\")\n",
    "    if option == \"1\":\n",
    "        item = input(\"What did you pay for? \")\n",
    "        qty = input(\"How many units: \")\n",
    "        price = input(\"How much per unit: \")\n",
    "        date = input(\"When was this expense made (dd/mm/yyyy): \")\n",
    "\n",
    "        expense = {\n",
    "            \"item\": item,\n",
    "            \"quantity\": qty,\n",
    "            \"price\": price,\n",
    "            \"date\": date,\n",
    "            \"t_cost\": float(price) * int(qty)\n",
    "        }\n",
    "        expenses.append(expense)\n",
    "        print(\"Done!\")\n",
    "        stop = input(\"press any key to exit or 'on' to continue \")\n",
    "    \n",
    "    elif option == \"2\":\n",
    "        if len(expenses) == 0:\n",
    "            print(\"You do not have any expenses logged yet\")\n",
    "        else:\n",
    "            print(\"YOUR EXPENSES\")\n",
    "            print(\"S/N\\t\\tItem\\t\\tQuantity\\t\\tUnit Price (NGN)\\t\\tTotal Cost (NGN)\\t\\tDate\")\n",
    "\n",
    "            for index, expense in enumerate(expenses):\n",
    "                sn = index + 1\n",
    "                item = expense['item']\n",
    "                qty = expense['quantity']\n",
    "                price = expense['price']\n",
    "                t_cost = expense['t_cost']\n",
    "                date = expense['date']\n",
    "                print(f\"{sn}\\t\\t{item}\\t\\t\\t{qty}\\t\\t\\t{price}\\t\\t\\t{t_cost}\\t\\t\\t\\t{date}\")\n",
    "        stop = input(\"press any key to exit or 'on' to continue \")\n",
    "    else:\n",
    "        total_expense = 0\n",
    "       \n",
    "        for expense in expenses:\n",
    "            total_expense += float(expense['t_cost'])\n",
    "            percentage_spending = (total_expense * 100) / float(income)\n",
    "            percentage_spending = round(percentage_spending, 2)\n",
    "            \n",
    "        print(\"You percentage spending so far is {}%\".format(percentage_spending))\n",
    "        percentage_expense = int((float(p_savings) * float(income)) / 100)\n",
    "        supple = int (income) - total_expense\n",
    "        if supple < percentage_expense:\n",
    "            print(\"{}, you have exceeded your budget\".format(User_name))\n",
    "        else:\n",
    "            print(\"{}, go knock yourself out\".format(User_name))\n",
    "\n",
    "        stop = input(\"press any key to exit or 'on' to continue \")"
   ]
  },
  {
   "cell_type": "markdown",
   "id": "69186f06",
   "metadata": {},
   "source": [
    "This is a simple application of python with an illustration of a memory using the while loop. "
   ]
  }
 ],
 "metadata": {
  "kernelspec": {
   "display_name": "Python 3 (ipykernel)",
   "language": "python",
   "name": "python3"
  },
  "language_info": {
   "codemirror_mode": {
    "name": "ipython",
    "version": 3
   },
   "file_extension": ".py",
   "mimetype": "text/x-python",
   "name": "python",
   "nbconvert_exporter": "python",
   "pygments_lexer": "ipython3",
   "version": "3.9.7"
  }
 },
 "nbformat": 4,
 "nbformat_minor": 5
}
